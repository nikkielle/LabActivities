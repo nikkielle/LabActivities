{
 "cells": [
  {
   "cell_type": "markdown",
   "metadata": {},
   "source": [
    "## Supplementary Activity\n",
    "## Try to implement the linear transformations using spancs using the scatteplot view. Just do at least one example of linear transformation for a 2D space."
   ]
  },
  {
   "cell_type": "code",
   "execution_count": 1,
   "metadata": {},
   "outputs": [],
   "source": [
    "import numpy as np\n",
    "import matplotlib.pyplot as plt\n",
    "%matplotlib inline"
   ]
  },
  {
   "cell_type": "code",
   "execution_count": 13,
   "metadata": {},
   "outputs": [
    {
     "data": {
      "image/png": "[encoded data removed]",
      "text/plain": [
       "<Figure size 432x288 with 1 Axes>"
      ]
     },
     "metadata": {
      "needs_background": "light"
     },
     "output_type": "display_data"
    }
   ],
   "source": [
    "NA = np.array([\n",
    "    [4,0],\n",
    "    [0,5]\n",
    "])\n",
    "\n",
    "W = np.arange(0,1,0.20)\n",
    "\n",
    "plt.scatter(W*NA[0,0],W*NA[1,0], color = \"blue\")\n",
    "plt.scatter(W*NA[0,1],W*NA[1,1], color = \"green\")\n",
    "\n",
    "plt.xlim(-2,5)\n",
    "plt.ylim(-2,5)\n",
    "plt.grid()\n",
    "plt.show()"
   ]
  },
  {
   "cell_type": "code",
   "execution_count": 3,
   "metadata": {},
   "outputs": [
    {
     "data": {
      "image/png": "[encoded data removed]",
      "text/plain": [
       "<Figure size 432x288 with 1 Axes>"
      ]
     },
     "metadata": {
      "needs_background": "light"
     },
     "output_type": "display_data"
    }
   ],
   "source": [
    "KS = np.array([\n",
    "    [4,0],\n",
    "    [0,4]\n",
    "])\n",
    "\n",
    "H = np.arange(0,3,0.12)\n",
    "\n",
    "plt.scatter(H*KS[0,0],H*KS[1,0], color = \"blue\")\n",
    "plt.scatter(H*KS[0,1],H*KS[1,1], color = \"green\")\n",
    "\n",
    "plt.xlim(-1,5)\n",
    "plt.ylim(-1,5)\n",
    "plt.grid()\n",
    "plt.show()"
   ]
  },
  {
   "cell_type": "code",
   "execution_count": null,
   "metadata": {},
   "outputs": [],
   "source": []
  }
 ],
 "metadata": {
  "kernelspec": {
   "display_name": "Python 3",
   "language": "python",
   "name": "python3"
  },
  "language_info": {
   "codemirror_mode": {
    "name": "ipython",
    "version": 3
   },
   "file_extension": ".py",
   "mimetype": "text/x-python",
   "name": "python",
   "nbconvert_exporter": "python",
   "pygments_lexer": "ipython3",
   "version": "3.8.3"
  }
 },
 "nbformat": 4,
 "nbformat_minor": 4
}
